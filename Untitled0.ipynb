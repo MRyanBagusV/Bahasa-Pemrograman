{
  "nbformat": 4,
  "nbformat_minor": 0,
  "metadata": {
    "colab": {
      "name": "Untitled0.ipynb",
      "provenance": [],
      "collapsed_sections": [],
      "authorship_tag": "ABX9TyNfuDAZJLA3iGfp9ZE/0sr0",
      "include_colab_link": true
    },
    "kernelspec": {
      "name": "python3",
      "display_name": "Python 3"
    }
  },
  "cells": [
    {
      "cell_type": "markdown",
      "metadata": {
        "id": "view-in-github",
        "colab_type": "text"
      },
      "source": [
        "<a href=\"https://colab.research.google.com/github/MRyanBagusV/Bahasa-Pemrograman/blob/main/Untitled0.ipynb\" target=\"_parent\"><img src=\"https://colab.research.google.com/assets/colab-badge.svg\" alt=\"Open In Colab\"/></a>"
      ]
    },
    {
      "cell_type": "markdown",
      "metadata": {
        "id": "Ehv3qv3eBQ1T"
      },
      "source": [
        "Prosedur : adalah fungsi yang tidak mengembalikan nilai\r\n",
        "Function : adalah fungsi yang mengembalikan nilai\r\n",
        "\r\n",
        "Untuk mendefinisikan/membuat fungsi di python sbb :\r\n",
        "\r\n",
        "def funct_name(param1,param2,..):\r\n",
        "stat_function\r\n",
        "return value "
      ]
    },
    {
      "cell_type": "code",
      "metadata": {
        "id": "nDZpVTIeA1nA"
      },
      "source": [
        "def hello():\r\n",
        "  print(\"hello\")"
      ],
      "execution_count": 1,
      "outputs": []
    },
    {
      "cell_type": "code",
      "metadata": {
        "id": "fUEkwixCBYsO"
      },
      "source": [
        "def hello1():\r\n",
        "  return \"hello\""
      ],
      "execution_count": 2,
      "outputs": []
    },
    {
      "cell_type": "code",
      "metadata": {
        "id": "ZYceqI4jBdBU"
      },
      "source": [
        "def penjumlahan(a,b):\r\n",
        "  return a+b"
      ],
      "execution_count": 3,
      "outputs": []
    },
    {
      "cell_type": "code",
      "metadata": {
        "colab": {
          "base_uri": "https://localhost:8080/"
        },
        "id": "L7pt-0izBgWM",
        "outputId": "925c7f34-f07b-44a4-c287-41f0b6c2cbec"
      },
      "source": [
        "hello()\r\n",
        "print(hello1())\r\n",
        "hasil=penjumlahan(3,7)\r\n",
        "print(hasil)\r\n",
        "print(\"89 + 12 = {}\". format(penjumlahan(89,12)))"
      ],
      "execution_count": 4,
      "outputs": [
        {
          "output_type": "stream",
          "text": [
            "hello\n",
            "hello\n",
            "10\n",
            "89 + 12 = 101\n"
          ],
          "name": "stdout"
        }
      ]
    },
    {
      "cell_type": "code",
      "metadata": {
        "id": "ZmeNTfiMBlUF"
      },
      "source": [
        "def faktorial(n):\r\n",
        "  hasil=1\r\n",
        "  for i in range(1,n+1):\r\n",
        "    hasil *=i\r\n",
        "  return hasil"
      ],
      "execution_count": 6,
      "outputs": []
    },
    {
      "cell_type": "code",
      "metadata": {
        "colab": {
          "base_uri": "https://localhost:8080/"
        },
        "id": "65vPwlHQBplw",
        "outputId": "1dcbce8e-cf57-48a1-d9b8-4fe7aede037b"
      },
      "source": [
        "print(\"5!={}\". format(faktorial(5)))"
      ],
      "execution_count": 7,
      "outputs": [
        {
          "output_type": "stream",
          "text": [
            "5!=120\n"
          ],
          "name": "stdout"
        }
      ]
    },
    {
      "cell_type": "code",
      "metadata": {
        "colab": {
          "base_uri": "https://localhost:8080/"
        },
        "id": "Vqr0vio0BsdG",
        "outputId": "8406510a-6b40-447f-b15f-b0670d7669ea"
      },
      "source": [
        "for n in range(5,11):\r\n",
        "  print(\"{}!={:0,.0f}\".format(n,faktorial(n)))"
      ],
      "execution_count": 8,
      "outputs": [
        {
          "output_type": "stream",
          "text": [
            "5!=120\n",
            "6!=720\n",
            "7!=5,040\n",
            "8!=40,320\n",
            "9!=362,880\n",
            "10!=3,628,800\n"
          ],
          "name": "stdout"
        }
      ]
    },
    {
      "cell_type": "code",
      "metadata": {
        "id": "By3mgDgOBxQ-"
      },
      "source": [
        "import math\r\n",
        "\r\n",
        "def x12(a,b,c):\r\n",
        "  d=b**2 - (4*a*c)\r\n",
        "  x1=(-b+math.sqrt(d))/(2*a)\r\n",
        "  x2=(-b-math.sqrt(d))/(2*a)\r\n",
        "  return (x1,x2)"
      ],
      "execution_count": 9,
      "outputs": []
    },
    {
      "cell_type": "code",
      "metadata": {
        "colab": {
          "base_uri": "https://localhost:8080/"
        },
        "id": "QFm-SsKOB0F4",
        "outputId": "a3a29e97-9949-4cf9-db3d-09c0fb4d5418"
      },
      "source": [
        "x1,x2=x12(1,6,9)\r\n",
        "print('x1={}, x2={}'. format(x1,x2))"
      ],
      "execution_count": 10,
      "outputs": [
        {
          "output_type": "stream",
          "text": [
            "x1=-3.0, x2=-3.0\n"
          ],
          "name": "stdout"
        }
      ]
    },
    {
      "cell_type": "code",
      "metadata": {
        "id": "6kRYxJCxB4zI"
      },
      "source": [
        "#Buat fungsi menyeleksi bilangan positif, negatif atau nol\r\n",
        "def cekbilangan(bil):\r\n",
        "  if n == 0:\r\n",
        "    return \"Adalah 0\"\r\n",
        "  elif n > 0:\r\n",
        "    return \" Adalah Bilangan Positif\"\r\n",
        "  else:\r\n",
        "    return \" Adalah Bilangan Negatif\""
      ],
      "execution_count": 11,
      "outputs": []
    },
    {
      "cell_type": "code",
      "metadata": {
        "colab": {
          "base_uri": "https://localhost:8080/"
        },
        "id": "d1E8V7OsB8y_",
        "outputId": "86920cb1-9375-4773-86e3-e691688d32c1"
      },
      "source": [
        "n = int(input('Masukan Angka :'))\r\n",
        "\r\n",
        "print(\"{} {}\".format(n, cekbilangan(n)))"
      ],
      "execution_count": 12,
      "outputs": [
        {
          "output_type": "stream",
          "text": [
            "Masukan Angka :10\n",
            "10  Adalah Bilangan Positif\n"
          ],
          "name": "stdout"
        }
      ]
    },
    {
      "cell_type": "code",
      "metadata": {
        "id": "tQzy2UppCCr_"
      },
      "source": [
        ""
      ],
      "execution_count": null,
      "outputs": []
    }
  ]
}